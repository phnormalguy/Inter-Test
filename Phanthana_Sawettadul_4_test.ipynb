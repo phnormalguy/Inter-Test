{
  "cells": [
    {
      "cell_type": "markdown",
      "metadata": {
        "id": "PDhyTr3kflhF"
      },
      "source": [
        "ข้อ1."
      ]
    },
    {
      "cell_type": "code",
      "execution_count": 81,
      "metadata": {
        "colab": {
          "base_uri": "https://localhost:8080/"
        },
        "id": "rCyp2sD5fJok",
        "outputId": "576953cc-6427-4c99-b6fc-6145ddc171cd"
      },
      "outputs": [
        {
          "name": "stdout",
          "output_type": "stream",
          "text": [
            "มีทั้งหมด :  5\n"
          ]
        }
      ],
      "source": [
        "\n",
        "def walk_pattern(n):\n",
        "    res = [0] * (n + 2)  \n",
        "    res[0] = 1\n",
        "    res[1] = 1\n",
        "    res[2] = 2\n",
        "\n",
        "    for i in range(2, n + 1):\n",
        "        res[i] = res[i - 1] + res[i - 2]\n",
        "\n",
        "    return res[n]\n",
        "\n",
        "\n",
        "\n",
        "n = 4\n",
        "print(\"มีทั้งหมด : \",walk_pattern(n))"
      ]
    },
    {
      "cell_type": "markdown",
      "metadata": {
        "id": "laUczpv3kuwH"
      },
      "source": [
        "ช้อที่2"
      ]
    },
    {
      "cell_type": "code",
      "execution_count": 82,
      "metadata": {
        "colab": {
          "base_uri": "https://localhost:8080/"
        },
        "id": "teNjW-JOkZMG",
        "outputId": "28a7a9dc-f01c-4464-db09-535504096dfb"
      },
      "outputs": [
        {
          "name": "stdout",
          "output_type": "stream",
          "text": [
            "ค่าความสูงของแต่ละคอลัมน์ เท่ากับ [6.00000006 6.         6.00000006 6.         6.00000006]\n",
            "ค่าความสูงของน้ำที่วัดจากพื้นของแต่ละคอลัมน์ เท่ากับ  [2.9999998 1.        2.        1.        3.9999995]\n",
            "คอลัมน์ที่สูงที่สุดวัดจากพื้นถึงผิวน้ำ เท่ากับ 3.9999995\n",
            "\n",
            "----------------------------------------\n",
            "ค่าความสูงของแต่ละคอลัมน์ เท่ากับ [4.33333334 4.33333334 4.33333334 6.        ]\n",
            "ค่าความสูงของน้ำที่วัดจากพื้นของแต่ละคอลัมน์ เท่ากับ  [3.3333333  0.33333334 1.3333334  0.        ]\n",
            "คอลัมน์ที่สูงที่สุดวัดจากพื้นถึงผิวน้ำ เท่ากับ 3.3333333\n",
            "\n",
            "----------------------------------------\n"
          ]
        }
      ],
      "source": [
        "import numpy as np\n",
        "def maxWater(arr, n):\n",
        "  counts = 0\n",
        "  total = 0.0\n",
        "  h=np.zeros_like(arr, dtype='float32')\n",
        "  h_check=np.zeros_like(arr, dtype='float32')\n",
        "  index = 0.0\n",
        "  lowest_g = np.zeros_like(arr)\n",
        "  check =len(arr)\n",
        "  while(total-n != 0):   #วนลูปจนกว่า น้ำ(n) จะหมด\n",
        "      for c_low in range(len(arr)):\n",
        "\n",
        "        index = arr.index(min((arr)))  #หาindex ที่ต่ำที่สุดปัจจุบัน\n",
        "        if(arr[c_low]<=arr[index]):\n",
        "         lowest_g[c_low] = 1  #ระบุตำแหน่งที่ตำสุดลง ใน array\n",
        "        if lowest_g[c_low] ==1 :\n",
        "          counts = counts+1\n",
        "        check = check-1\n",
        "        if(check == 0):     #เท่ากับรอบสุดท้าย\n",
        "          add_val = 1/counts\n",
        "          #update ค่า h\n",
        "          for p in range(len(arr)):\n",
        "            if(lowest_g[p]==1):\n",
        "              h[p]=h[p]+add_val\n",
        "              h_check[p] = h_check[p]+add_val\n",
        "              arr[p]=arr[p]+h[p]\n",
        "              h[p]=0\n",
        "              # print(lowest_g)\n",
        "              lowest_g[p] =0\n",
        "\n",
        "         # print(lowest_g)\n",
        "          # print('h ปัจจุบัน =',h_check)\n",
        "          # print('ความสูงดิน+น้ำ',arr)\n",
        "          check = len(arr)\n",
        "      counts=0\n",
        "      total = total+1\n",
        "  print('ค่าความสูงของแต่ละคอลัมน์ เท่ากับ' ,arr+h)\n",
        "  print('ค่าความสูงของน้ำที่วัดจากพื้นของแต่ละคอลัมน์ เท่ากับ ',h_check)\n",
        "  print('คอลัมน์ที่สูงที่สุดวัดจากพื้นถึงผิวน้ำ เท่ากับ',max(h_check))\n",
        "  print()\n",
        "  print('----------------------------------------')\n",
        "\n",
        "\n",
        "\n",
        "\n",
        "\n",
        "\n",
        "\n",
        "exam_1 = [3,5,4,5,2]\n",
        "exam_2 = [1,4,3,6]\n",
        "maxWater(exam_1,11)\n",
        "maxWater(exam_2,5)\n"
      ]
    },
    {
      "cell_type": "markdown",
      "metadata": {
        "id": "JAAkpNrKpKmN"
      },
      "source": [
        "ข้อที่3\n"
      ]
    },
    {
      "cell_type": "code",
      "execution_count": 83,
      "metadata": {
        "colab": {
          "base_uri": "https://localhost:8080/"
        },
        "id": "hqmApB0Udm7d",
        "outputId": "c3abbf4a-63f0-4383-9e19-53a81eae7cac"
      },
      "outputs": [
        {
          "name": "stdout",
          "output_type": "stream",
          "text": [
            "input =  [1, 7, 2, 6, 4, 8]\n",
            "output =  [1, 7, 7, 7, 7]\n",
            "-------------------\n",
            "input =  [1, 9, 9, 4, 6, 2, 6, 6, 1, 4, 2]\n",
            "output =  [1, 9, 6, 6, 6, 6, 6, 4, 4, 2]\n",
            "-------------------\n",
            "input =  [3, 5, 4, 5, 2]\n",
            "output =  [3, 5, 5, 2]\n",
            "-------------------\n",
            "input =  [6, 5, 4, 1, 3, 2]\n",
            "output =  [5, 4, 3, 3, 2]\n",
            "-------------------\n"
          ]
        }
      ],
      "source": [
        "from re import I\n",
        "def trap_water(arr):\n",
        "    n = len(arr)\n",
        "    water_level = [0] * (n+1) #เพราะว่าจะเริ่มที่ด้านนอกกำแพงเป็น0 เลยต้องกำหนดขนาดarray ให้เกินมาซ้าย+1 ขวา+1 =2\n",
        "    left_max = [0]*(n)\n",
        "    right_max = [0]*(n)\n",
        "    maxl=maxr = 0\n",
        "\n",
        "    left_max[0] = arr[0]\n",
        "    for i in range(1, n):        #หา Leftmax ให้ได้ index ไว้เทียบ ตอนเรียงละดับน้ำ\n",
        "        left_max[i] = max(left_max[i - 1], arr[i])\n",
        "    right_max[n - 1] = arr[n - 1]\n",
        "\n",
        "    for i in range(n - 2, -1, -1):  #หา rightmax ให้ได้ index ไว้เทียบ ตอนเรียงละดับน้ำ\n",
        "        right_max[i] = max(right_max[i + 1], arr[i])\n",
        "\n",
        "    for i  in range (n):\n",
        "      if maxl < arr[i]:  #เริ่มเรียงระดับน้ำจากซ้ายถ้ายังไม่เจอกำแพงที่ต่ำกว่าสามารถให้บรรจุ เท่ากับ ขนาดmaxl ปัจจุบัน\n",
        "        water_level[i] = maxl\n",
        "        maxl = arr[i]     #อัปเดต maxl\n",
        "      elif maxl == left_max[i] and left_max[i] <= right_max[i]: # ถ้าเจอกำแพงต่ำกว่า จะเทียบกับ array left_max แทนเพื่อเติมน้ำให้เท่ากับค่าสูงสุดก่อน\n",
        "        water_level[i+1] = right_max[i]\n",
        "      else:                       #กรณีเจอกำแพงต่ำกว่าและยังมีกำแพงต่อๆไปที่สูงกว่าปัจจุบัน\n",
        "        water_level[i] = maxl\n",
        "    for i in range(n-1,-1,-1):\n",
        "      if maxr < arr[i]:    #เริ่มเรียงจากขวาจนกว่าจะเจอกำแพงต่ำกว่าเหมือนด้านบน\n",
        "        water_level[i+1] = maxr       #i+1 เพราะอาเรย์ loop i ไม่ถึงตัวสุดท้าย\n",
        "        maxr=arr[i]\n",
        "      elif maxr == right_max[i+1] and right_max[i] <=left_max[i]:        #กำแพงต่ำกว่าเทียบกับ right_max\n",
        "        # print('รอบที่ ',i+1,'= ',right_max[i+1])\n",
        "        water_level[i+1] = maxr\n",
        "      else:\n",
        "        water_level[i+1] = left_max[i]\n",
        "      if i == 0 :             #เพื่อกันตอนใส่น้ำจากขวามาซ้ายจะเปลี่ยนระดับน้ำตัวแรกให้เป็นค่าที่ผิด\n",
        "        if(arr[i+1]>arr[i]):\n",
        "          water_level[i+1]=arr[i]       #ถ้าสรุปว่ากำแพงตัวแรกต่ำกว่ากำแพงที่2 ให่ทำให้ระดับสูงได้แค่เท่ากำแพงแรก\n",
        "\n",
        "    # print('left max = ',left_max)\n",
        "    # print('right max = ',right_max)\n",
        "    water_level.pop(0)       # เพราะหัวท้ายเป็น0 อยู่แล้วจากการเช็ค maxl,maxr\n",
        "    water_level.pop(n-1)\n",
        "\n",
        "\n",
        "    print('input = ',arr)\n",
        "    print('output = ',water_level)\n",
        "    print('-------------------')\n",
        "\n",
        "\n",
        "\n",
        "exp_1 = [3,5,4,5,2]\n",
        "exp_2=[6,5,4,1,3,2]\n",
        "test= [1,7,2,6,4,8]\n",
        "test2=[1,9,9,4,6,2,6,6,1,4,2]\n",
        "\n",
        "\n",
        "#น่าจะถูกทุกกรณี\n",
        "\n",
        "trap_water(test)\n",
        "trap_water(test2)\n",
        "trap_water(exp_1)\n",
        "trap_water(exp_2)\n"
      ]
    },
    {
      "cell_type": "markdown",
      "metadata": {
        "id": "GjP0RPkvdoEu"
      },
      "source": [
        "ข้อที่4"
      ]
    },
    {
      "cell_type": "code",
      "execution_count": 84,
      "metadata": {
        "colab": {
          "base_uri": "https://localhost:8080/"
        },
        "id": "IuSx2xOVdp9-",
        "outputId": "ac2798f3-7b6a-4b14-d103-c2213db113a5"
      },
      "outputs": [
        {
          "name": "stdout",
          "output_type": "stream",
          "text": [
            "[3 3 0 3 3]\n",
            "แผนผังห้องประชุม ['ว่าง', 'ว่าง', 'เข้าใช้', 'ว่าง', 'ว่าง']\n",
            "[3 3 0 3 0]\n",
            "แผนผังห้องประชุม ['ว่าง', 'ว่าง', 'ไม่ว่าง', 'ว่าง', 'เข้าใช้']\n",
            "[3 3 0 2 0]\n",
            "แผนผังห้องประชุม ['ว่าง', 'ว่าง', 'ไม่ว่าง', 'เข้าใช้', 'ไม่ว่าง']\n",
            "[3 2 0 2 0]\n",
            "แผนผังห้องประชุม ['ว่าง', 'เข้าใช้', 'ไม่ว่าง', 'ไม่ว่าง', 'ไม่ว่าง']\n",
            "[1 2 0 2 0]\n",
            "แผนผังห้องประชุม ['เข้าใช้', 'ไม่ว่าง', 'ไม่ว่าง', 'ไม่ว่าง', 'ไม่ว่าง']\n",
            "คำตอบสุดท้ายเท่ากับ [1 2 0 2 0]\n"
          ]
        }
      ],
      "source": [
        "import numpy as np\n",
        "def sec_room(n,arr):\n",
        "  if(len(arr)!= n):\n",
        "    return print('โปรดระบุจำนวนห้องให้ถูกต่้อง')\n",
        "  arr_order = np.zeros_like(arr)  #เก็บตำแหน่งที่ถูกใช้แล้ว\n",
        "  present_arr = arr[:]\n",
        "  answer = np.full_like(arr,3)\n",
        "  answer_str = ['ว่าง']*len(arr)\n",
        "  counts = 0\n",
        "  free_room = 0\n",
        "  max_arr = max(arr)\n",
        "  while(counts <n):\n",
        "      counts = counts+1\n",
        "      min_index = present_arr.index(min(present_arr))\n",
        "      if(present_arr[min_index]<=max_arr):\n",
        "        arr_order[min_index] = 1\n",
        "        present_arr[min_index] = max_arr+1\n",
        "      for i in range(len(arr)):        #ลูปหา free_room\n",
        "        if(i == 0):     #กรณีที่อยู่ชิดขอบซ้าย\n",
        "          if(arr_order[i] == 0 and arr_order[i+1] == 0 ):\n",
        "            free_room = free_room+1\n",
        "        elif(i ==len(arr)-1):  #กรณีชิดขอบขวา\n",
        "          if(arr_order[i-1] ==0 and arr_order[i]==0):\n",
        "            free_room = free_room+1\n",
        "        elif (i == 1 ): #ถัดจากกล่องแรก\n",
        "          if(arr_order[i-1]== 0 and arr_order[i]== 1):\n",
        "            free_room = free_room+1\n",
        "        elif (i == len(arr)-2 ): #ถัดจากกล่องสุดท้าย\n",
        "          if(arr_order[i+1]== 0 and arr_order[i]== 1):\n",
        "            free_room = free_room+1\n",
        "        elif(i >= 2 and i <= len(arr)-3):\n",
        "          if((arr_order[i-1] == 0 and arr_order[i+1] == 0) and arr_order[i]== 0):\n",
        "              free_room = free_room+1\n",
        "      if(min_index <len(arr)):              #กัน out of bound\n",
        "        if(min_index == 0 or min_index ==len(arr)-1): #ส่่วนแบ่งประเภทผู้ใช้\n",
        "            if(min_index == 0): #เช็คฝั่งซ้ายสุด\n",
        "              if((arr_order[min_index+1] == 0  and free_room >=1) ):\n",
        "                answer[min_index] = 0\n",
        "              elif((arr_order[min_index+1] == 1 and free_room == 0)):\n",
        "                answer[min_index] = 1\n",
        "              elif((arr_order[min_index+1] == 1 and free_room >=1 )):\n",
        "                answer[min_index] =2\n",
        "            elif(min_index==len(arr)-1):  #เช็คฝั่งขวาสุด\n",
        "              if((arr_order[min_index-1] == 0  and free_room >=1)):\n",
        "                answer[min_index] = 0\n",
        "              elif((arr_order[min_index-1] == 1 and free_room == 0)):\n",
        "                answer[min_index] = 1\n",
        "              elif((arr_order[min_index-1] == 1 and free_room >=1 )):\n",
        "                answer[min_index] =2\n",
        "        elif((arr_order[min_index+1] == 1 and arr_order[min_index-1] ==1) and free_room ==0 ): ######################ด้านใน\n",
        "            answer[min_index] = 1\n",
        "        elif((arr_order[min_index+1] == 1 or arr_order[min_index-1] ==1) and free_room >=1 ):\n",
        "            answer[min_index] = 2\n",
        "            free_room=0\n",
        "        elif(min_index > 1 and min_index<len(arr)-2)  :\n",
        "          if(((arr_order[min_index+1] == 0 and arr_order[min_index-1]) ==0 and free_room >=1)):\n",
        "            answer[min_index] = 0\n",
        "          elif((arr_order[min_index+1] == 1 or arr_order[min_index-1] ==1) and free_room <= 0  ):\n",
        "              answer[min_index] = 1\n",
        "          elif((arr_order[min_index+1] == 1 or arr_order[min_index-1] ==1) and free_room >= 1 ):\n",
        "              answer[min_index] = 2\n",
        "      answer_str[min_index] = 'เข้าใช้'  #print ก่อนเปลี่ยนค่า\n",
        "      print(answer)\n",
        "      print('แผนผังห้องประชุม',answer_str) #เช็คOutput สถานะห้อง\n",
        "      answer_str[min_index] = 'ไม่ว่าง'\n",
        "      free_room=0\n",
        "  print('คำตอบสุดท้ายเท่ากับ',answer)\n",
        "room = [5,4,1,3,2]\n",
        "sec_room(5,room) #########################       3ในlist ใส่ไว้ให้รู้ว่ายังไม่กำหนดว่าผู้ใช้เป็นผู้ต้องสงสัยประเภทใด (1,2,3)\n"
      ]
    }
  ],
  "metadata": {
    "colab": {
      "provenance": []
    },
    "kernelspec": {
      "display_name": "Python 3",
      "name": "python3"
    },
    "language_info": {
      "name": "python"
    }
  },
  "nbformat": 4,
  "nbformat_minor": 0
}
